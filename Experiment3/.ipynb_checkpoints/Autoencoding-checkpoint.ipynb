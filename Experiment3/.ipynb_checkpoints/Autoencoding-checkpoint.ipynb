{
 "cells": [
  {
   "cell_type": "code",
   "execution_count": 2,
   "metadata": {},
   "outputs": [],
   "source": [
    "#Import necessary packages.\n",
    "\n",
    "from keras.models import Sequential\n",
    "from keras.layers import Dense\n",
    "from keras.initializers import he_uniform\n",
    "from keras.optimizers import RMSprop\n",
    "import matplotlib.pyplot as plt\n",
    "import numpy as np\n",
    "from random import shuffle\n",
    "\n",
    "%matplotlib inline"
   ]
  },
  {
   "cell_type": "code",
   "execution_count": 7,
   "metadata": {},
   "outputs": [
    {
     "name": "stdout",
     "output_type": "stream",
     "text": [
      "[1, 3, 2]\n",
      "[1, 1, 2]\n"
     ]
    }
   ],
   "source": [
    "dict1 = {}\n",
    "dict1[1] = 1\n",
    "dict1[3] = 1\n",
    "dict1[2] = 2\n",
    "print(list(dict1.keys()))\n",
    "print(list(dict1.values()))"
   ]
  },
  {
   "cell_type": "code",
   "execution_count": 3,
   "metadata": {},
   "outputs": [
    {
     "name": "stdout",
     "output_type": "stream",
     "text": [
      "(102442, 13217)\n"
     ]
    }
   ],
   "source": [
    "#Load functional signatures of premises.\n",
    "\n",
    "X = np.load('Fun.npy')\n",
    "\n",
    "(num_contexts, num_fun) = X.shape\n",
    "print(X.shape)"
   ]
  },
  {
   "cell_type": "code",
   "execution_count": 4,
   "metadata": {},
   "outputs": [],
   "source": [
    "#Select training and test samples.\n",
    "\n",
    "indices = list(range(num_contexts))\n",
    "shuffle(indices)\n",
    "\n",
    "X_train = X[indices][: int(num_contexts * 0.8)]\n",
    "X_test = X[indices][int(num_contexts * 0.8):]"
   ]
  },
  {
   "cell_type": "code",
   "execution_count": 5,
   "metadata": {},
   "outputs": [
    {
     "name": "stdout",
     "output_type": "stream",
     "text": [
      "_________________________________________________________________\n",
      "Layer (type)                 Output Shape              Param #   \n",
      "=================================================================\n",
      "dense_1 (Dense)              (None, 256)               3383808   \n",
      "_________________________________________________________________\n",
      "dense_2 (Dense)              (None, 13217)             3396769   \n",
      "=================================================================\n",
      "Total params: 6,780,577\n",
      "Trainable params: 6,780,577\n",
      "Non-trainable params: 0\n",
      "_________________________________________________________________\n"
     ]
    },
    {
     "data": {
      "image/png": "[encoded data removed]",
      "text/plain": [
       "<Figure size 432x288 with 1 Axes>"
      ]
     },
     "metadata": {},
     "output_type": "display_data"
    },
    {
     "data": {
      "image/png": "[encoded data removed]",
      "text/plain": [
       "<Figure size 432x288 with 1 Axes>"
      ]
     },
     "metadata": {},
     "output_type": "display_data"
    }
   ],
   "source": [
    "#Autoencoder.\n",
    "\n",
    "model = Sequential()\n",
    "model.add(Dense(256, kernel_initializer = he_uniform(), activation = 'tanh', input_shape = (num_fun,)))\n",
    "model.add(Dense(num_fun, kernel_initializer = he_uniform(), activation = 'relu'))\n",
    "model.compile(optimizer = RMSprop(decay = 1e-8), loss = 'mse', metrics = ['accuracy'])\n",
    "model.summary()\n",
    "\n",
    "history = model.fit(X_train, X_train, epochs = 50, batch_size = 2048, shuffle = True, verbose = 0)\n",
    "\n",
    "history_dict = history.history\n",
    "loss_values = history_dict['loss']\n",
    "acc_values = history_dict['acc']\n",
    "\n",
    "epochs = range(1, len(acc_values) + 1)\n",
    "\n",
    "plt.plot(epochs, loss_values, 'bo', label = 'Training loss')\n",
    "plt.title('Training loss')\n",
    "plt.xlabel('Epochs')\n",
    "plt.ylabel('Loss')\n",
    "plt.legend()\n",
    "\n",
    "plt.show()\n",
    "\n",
    "plt.clf()\n",
    "\n",
    "plt.plot(epochs, acc_values, 'bo', label = 'Training accuracy')\n",
    "plt.title('Training accuracy')\n",
    "plt.xlabel('Epochs')\n",
    "plt.ylabel('Accuracy')\n",
    "plt.legend()\n",
    "\n",
    "plt.show()"
   ]
  },
  {
   "cell_type": "code",
   "execution_count": 8,
   "metadata": {},
   "outputs": [
    {
     "name": "stdout",
     "output_type": "stream",
     "text": [
      "Test loss: 0.0046.\n",
      "Test accuracy: 58.6%.\n"
     ]
    }
   ],
   "source": [
    "#Test autoencoder.\n",
    "\n",
    "test_loss, test_acc = model.evaluate(X_test, X_test, verbose = 0)\n",
    "print('Test loss:', str(round(test_loss, 4)) + '.')\n",
    "print('Test accuracy:', str(round(100*test_acc, 2)) + '%.')"
   ]
  },
  {
   "cell_type": "code",
   "execution_count": 7,
   "metadata": {},
   "outputs": [
    {
     "name": "stdout",
     "output_type": "stream",
     "text": [
      "(102442, 256)\n"
     ]
    }
   ],
   "source": [
    "#Save embedded functional signatures.\n",
    "\n",
    "weights = model.layers[0].get_weights()\n",
    "X = np.tanh(np.dot(X, weights[0]) + weights[1]).astype('float32')\n",
    "print(X.shape)\n",
    "\n",
    "np.save('Conj_tokens_auto', X[:32524])\n",
    "np.save('Ax_tokens_auto', X[32524:])"
   ]
  },
  {
   "cell_type": "code",
   "execution_count": null,
   "metadata": {},
   "outputs": [],
   "source": []
  }
 ],
 "metadata": {
  "kernelspec": {
   "display_name": "Python 3",
   "language": "python",
   "name": "python3"
  },
  "language_info": {
   "codemirror_mode": {
    "name": "ipython",
    "version": 3
   },
   "file_extension": ".py",
   "mimetype": "text/x-python",
   "name": "python",
   "nbconvert_exporter": "python",
   "pygments_lexer": "ipython3",
   "version": "3.7.6"
  }
 },
 "nbformat": 4,
 "nbformat_minor": 2
}
