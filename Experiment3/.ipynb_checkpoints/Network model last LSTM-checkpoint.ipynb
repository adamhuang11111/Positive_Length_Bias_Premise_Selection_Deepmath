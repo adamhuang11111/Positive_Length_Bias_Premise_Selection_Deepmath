{
 "cells": [
  {
   "cell_type": "code",
   "execution_count": 3,
   "metadata": {},
   "outputs": [],
   "source": [
    "#Import necessary packages.\n",
    "\n",
    "import numpy as np\n",
    "from keras.callbacks import EarlyStopping\n",
    "from keras.layers import Dense, Dropout, LSTM, Activation, Embedding\n",
    "from keras.models import load_model, Sequential\n",
    "from keras.optimizers import Adam\n",
    "import os\n",
    "import pickle\n",
    "import matplotlib.pyplot as plt\n",
    "import pandas as pd\n",
    "from sklearn.feature_extraction.text import CountVectorizer\n",
    "from keras.preprocessing.text import Tokenizer\n",
    "from keras.preprocessing.sequence import pad_sequences\n",
    "from sklearn.model_selection import train_test_split\n",
    "from keras.utils.np_utils import to_categorical\n",
    "import re\n",
    "import json\n",
    "import pandas as pd\n",
    "\n",
    "%matplotlib inline\n",
    "\n",
    "current_directory = os.getcwd()"
   ]
  },
  {
   "cell_type": "code",
   "execution_count": 5,
   "metadata": {},
   "outputs": [
    {
     "name": "stdout",
     "output_type": "stream",
     "text": [
      "(469448, 512)\n",
      "(53080, 512)\n",
      "469448\n",
      "53080\n"
     ]
    }
   ],
   "source": [
    "#Load datasets.\n",
    "\n",
    "X_train = np.load(\"Training_data.npy\")\n",
    "X_test = np.load(\"Test_data.npy\")\n",
    "Y_train = np.load('Training_labels.npy')\n",
    "Y_test = np.load('Test_labels.npy')\n",
    "test_reference = np.load('Test_reference.npy')\n",
    "human_train = np.load('Human_Test.npy')\n",
    "human_test = np.load('Human_Test_Labels.npy')\n",
    "human_data_reference = np.load('human_Data_Reference.npy')\n",
    "\n",
    "human_test_dict = {}\n",
    "\n",
    "for i in range(len(human_data_reference)):\n",
    "    if human_data_reference[i][0] not in human_test_dict:\n",
    "        human_test_dict[human_data_reference[i][0]] = [[], []]\n",
    "    human_test_dict[human_data_reference[i][0]][0].append(human_train[i])\n",
    "    human_test_dict[human_data_reference[i][0]][1].append(human_test[i])\n",
    "for item in human_test_dict:\n",
    "    human_test_dict[item][0] = np.array(human_test_dict[item][0])\n",
    "    human_test_dict[item][1] = np.array(human_test_dict[item][1])\n",
    "    \n",
    "print(X_train.shape)\n",
    "print(X_test.shape)\n",
    "print(len(Y_train))\n",
    "print(len(Y_test))\n"
   ]
  },
  {
   "cell_type": "code",
   "execution_count": 6,
   "metadata": {},
   "outputs": [],
   "source": [
    "#Regularize the data.\n",
    "\n",
    "mean = X_train.mean(axis = 0)\n",
    "X_train -= mean\n",
    "X_test -= mean\n",
    "for item in human_test_dict:\n",
    "    human_test_dict[item][0] -= mean \n",
    "\n",
    "std = X_train.std(axis = 0)\n",
    "X_train /= std\n",
    "X_test /= std\n",
    "for item in human_test_dict:\n",
    "    human_test_dict[item][0] /= std"
   ]
  },
  {
   "cell_type": "code",
   "execution_count": 7,
   "metadata": {},
   "outputs": [],
   "source": [
    "#Group the conjecture-premise pair by name of conjecture\n",
    "\n",
    "test_dict = {} \n",
    "\n",
    "\n",
    "for i in range(len(X_test)):\n",
    "\n",
    "    if test_reference[i][0] not in test_dict:\n",
    "        test_dict[test_reference[i][0]] = [[],[]]\n",
    "    \n",
    "    test_dict[test_reference[i][0]][0].append(X_test[i])\n",
    "    test_dict[test_reference[i][0]][1].append(Y_test[i])\n",
    "\n",
    "\n"
   ]
  },
  {
   "cell_type": "code",
   "execution_count": 125,
   "metadata": {},
   "outputs": [
    {
     "name": "stdout",
     "output_type": "stream",
     "text": [
      "(47027, 512)\n",
      "(5225, 512)\n",
      "47027\n",
      "5225\n"
     ]
    }
   ],
   "source": [
    "#[OPTIONAL] Choose a smaller sample.\n",
    "\n",
    "train_data_selection = int(X_train.shape[0]*0.1)\n",
    "test_data_selection = int(X_test.shape[0]*0.1)\n",
    "\n",
    "X_train = X_train[:train_data_selection]\n",
    "Y_train = Y_train[:train_data_selection]\n",
    "X_test = X_test[:test_data_selection]\n",
    "Y_test = Y_test[:test_data_selection]\n",
    "\n",
    "print(X_train.shape)\n",
    "print(X_test.shape)\n",
    "print(len(Y_train))\n",
    "print(len(Y_test))"
   ]
  },
  {
   "cell_type": "code",
   "execution_count": 7,
   "metadata": {},
   "outputs": [
    {
     "data": {
      "text/plain": [
       "(469448, 1, 512)"
      ]
     },
     "execution_count": 7,
     "metadata": {},
     "output_type": "execute_result"
    }
   ],
   "source": [
    "#Add one more dimention to the input\n",
    "X_train_test = np.array([[i] for i in X_train])\n",
    "\n",
    "Y_train_test = np.array([[i] for i in Y_train])\n",
    "X_train_test.shape"
   ]
  },
  {
   "cell_type": "code",
   "execution_count": 9,
   "metadata": {
    "scrolled": false
   },
   "outputs": [
    {
     "name": "stdout",
     "output_type": "stream",
     "text": [
      "_________________________________________________________________\n",
      "Layer (type)                 Output Shape              Param #   \n",
      "=================================================================\n",
      "lstm_5 (LSTM)                (None, 1, 128)            328192    \n",
      "_________________________________________________________________\n",
      "dropout_5 (Dropout)          (None, 1, 128)            0         \n",
      "_________________________________________________________________\n",
      "lstm_6 (LSTM)                (None, 128)               131584    \n",
      "_________________________________________________________________\n",
      "dropout_6 (Dropout)          (None, 128)               0         \n",
      "_________________________________________________________________\n",
      "dense_3 (Dense)              (None, 1)                 129       \n",
      "_________________________________________________________________\n",
      "activation_3 (Activation)    (None, 1)                 0         \n",
      "=================================================================\n",
      "Total params: 459,905\n",
      "Trainable params: 459,905\n",
      "Non-trainable params: 0\n",
      "_________________________________________________________________\n"
     ]
    }
   ],
   "source": [
    "model1 = Sequential()\n",
    "model1.add(LSTM(128, return_sequences=True, input_shape= (1,X_train.shape[1])))\n",
    "model1.add(Dropout(0.5))\n",
    "model1.add(LSTM(128, return_sequences=False))\n",
    "model1.add(Dropout(0.5))\n",
    "model1.add(Dense(1))\n",
    "model1.add(Activation('sigmoid'))\n",
    "model1.compile(loss='binary_crossentropy', optimizer='rmsprop',metrics = ['accuracy'])\n",
    "\n",
    "\n",
    "history = model1.fit(X_train_test, Y_train_test, epochs = 1500, batch_size = 4096, shuffle = True,\n",
    "                                validation_split = 0.1, verbose = 0)\n",
    "   \n",
    "model1.summary()\n",
    "os.chdir('/data')\n",
    "model1.save('LSTMmodel.h5')\n",
    "        \n",
    "os.chdir('/data')\n",
    "with open('LSTM_history.pickle', 'wb') as dictionary:\n",
    "    pickle.dump(history.history, dictionary, protocol=pickle.HIGHEST_PROTOCOL)\n"
   ]
  }
 ],
 "metadata": {
  "kernelspec": {
   "display_name": "Python 3",
   "language": "python",
   "name": "python3"
  },
  "language_info": {
   "codemirror_mode": {
    "name": "ipython",
    "version": 3
   },
   "file_extension": ".py",
   "mimetype": "text/x-python",
   "name": "python",
   "nbconvert_exporter": "python",
   "pygments_lexer": "ipython3",
   "version": "3.6.5"
  }
 },
 "nbformat": 4,
 "nbformat_minor": 2
}
